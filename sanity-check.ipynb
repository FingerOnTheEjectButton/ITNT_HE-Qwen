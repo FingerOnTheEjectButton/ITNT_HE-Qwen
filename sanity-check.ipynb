{
 "cells": [
  {
   "cell_type": "code",
   "execution_count": null,
   "id": "fcd34e0e-5847-406c-9dcc-a8cfae0c0374",
   "metadata": {},
   "outputs": [],
   "source": [
    "from human_eval.evaluation import evaluate_functional_correctness\n",
    "import os\n",
    "\n",
    "# Quick sanity-check using example data\n",
    "test_samples_file = \"example_samples.jsonl\"\n",
    "test_problem_file = \"example_problem.jsonl\"\n",
    "print(\"Running sanity check...\")\n",
    "test_results = evaluate_functional_correctness(test_samples_file, problem_file=test_problem_file, k=[1])\n",
    "print(f\"Sanity check result: {test_results}\")\n"
   ]
  }
 ],
 "metadata": {
  "kernelspec": {
   "display_name": "Python 3 (ipykernel)",
   "language": "python",
   "name": "python3"
  },
  "language_info": {
   "codemirror_mode": {
    "name": "ipython",
    "version": 3
   },
   "file_extension": ".py",
   "mimetype": "text/x-python",
   "name": "python",
   "nbconvert_exporter": "python",
   "pygments_lexer": "ipython3",
   "version": "3.13.0"
  }
 },
 "nbformat": 4,
 "nbformat_minor": 5
}
